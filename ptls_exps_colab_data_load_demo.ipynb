{
  "cells": [
    {
      "cell_type": "markdown",
      "metadata": {
        "id": "kWNKuoktbGjZ"
      },
      "source": [
        "# data loading\n",
        "It is highly recommended to save downloaded files on Google Drive or anywhere else so as not to waste time downloading"
      ]
    },
    {
      "cell_type": "code",
      "execution_count": null,
      "metadata": {
        "id": "GYyxM34tWjhW"
      },
      "outputs": [],
      "source": [
        "!git clone https://github.com/dllllb/ptls-experiments.git"
      ]
    },
    {
      "cell_type": "code",
      "execution_count": null,
      "metadata": {
        "id": "h9hE3mfGWxZg"
      },
      "outputs": [],
      "source": [
        "!sudo apt install python3.8 python3-venv\n",
        "!sudo apt install python3.8-distutils\n",
        "!pip3 install pipenv"
      ]
    },
    {
      "cell_type": "code",
      "execution_count": null,
      "metadata": {
        "id": "QrCGE_WMYalT"
      },
      "outputs": [],
      "source": [
        "import os\n",
        "os.chdir('ptls-experiments')"
      ]
    },
    {
      "cell_type": "code",
      "execution_count": null,
      "metadata": {
        "id": "n-zFn77jWxb-"
      },
      "outputs": [],
      "source": [
        "!pipenv sync --dev"
      ]
    },
    {
      "cell_type": "code",
      "execution_count": null,
      "metadata": {
        "id": "5xSy4jDfcoIr"
      },
      "outputs": [],
      "source": [
        "# you need to write commands directly in the output,\n",
        "#  there you need to find an input field\n",
        "\n",
        "!pipenv shell"
      ]
    },
    {
      "cell_type": "code",
      "source": [
        "# import os\n",
        "# from google.colab import drive\n",
        "# drive.mount('/content/drive')"
      ],
      "metadata": {
        "id": "YraZIDjFYpkm"
      },
      "execution_count": null,
      "outputs": []
    }
  ],
  "metadata": {
    "colab": {
      "provenance": []
    },
    "kernelspec": {
      "display_name": "Python 3",
      "name": "python3"
    },
    "language_info": {
      "name": "python"
    }
  },
  "nbformat": 4,
  "nbformat_minor": 0
}